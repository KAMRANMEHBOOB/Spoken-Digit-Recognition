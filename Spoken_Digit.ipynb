{
  "nbformat": 4,
  "nbformat_minor": 0,
  "metadata": {
    "accelerator": "GPU",
    "colab": {
      "name": "32.ipynb",
      "provenance": [],
      "collapsed_sections": []
    },
    "kernelspec": {
      "display_name": "Python 3",
      "language": "python",
      "name": "python3"
    },
    "language_info": {
      "codemirror_mode": {
        "name": "ipython",
        "version": 3
      },
      "file_extension": ".py",
      "mimetype": "text/x-python",
      "name": "python",
      "nbconvert_exporter": "python",
      "pygments_lexer": "ipython3",
      "version": "3.7.3"
    },
    "widgets": {
      "application/vnd.jupyter.widget-state+json": {
        "3600dbc42f91425bba03498552388998": {
          "model_module": "@jupyter-widgets/controls",
          "model_name": "HBoxModel",
          "state": {
            "_view_name": "HBoxView",
            "_dom_classes": [],
            "_model_name": "HBoxModel",
            "_view_module": "@jupyter-widgets/controls",
            "_model_module_version": "1.5.0",
            "_view_count": null,
            "_view_module_version": "1.5.0",
            "box_style": "",
            "layout": "IPY_MODEL_b4f241e611f14abb9bd8177b26dbf321",
            "_model_module": "@jupyter-widgets/controls",
            "children": [
              "IPY_MODEL_e3982224e4404c28920a37bd7e53a3fe",
              "IPY_MODEL_12bebca86cc3404383d68187e92507d7"
            ]
          }
        },
        "b4f241e611f14abb9bd8177b26dbf321": {
          "model_module": "@jupyter-widgets/base",
          "model_name": "LayoutModel",
          "state": {
            "_view_name": "LayoutView",
            "grid_template_rows": null,
            "right": null,
            "justify_content": null,
            "_view_module": "@jupyter-widgets/base",
            "overflow": null,
            "_model_module_version": "1.2.0",
            "_view_count": null,
            "flex_flow": null,
            "width": null,
            "min_width": null,
            "border": null,
            "align_items": null,
            "bottom": null,
            "_model_module": "@jupyter-widgets/base",
            "top": null,
            "grid_column": null,
            "overflow_y": null,
            "overflow_x": null,
            "grid_auto_flow": null,
            "grid_area": null,
            "grid_template_columns": null,
            "flex": null,
            "_model_name": "LayoutModel",
            "justify_items": null,
            "grid_row": null,
            "max_height": null,
            "align_content": null,
            "visibility": null,
            "align_self": null,
            "height": null,
            "min_height": null,
            "padding": null,
            "grid_auto_rows": null,
            "grid_gap": null,
            "max_width": null,
            "order": null,
            "_view_module_version": "1.2.0",
            "grid_template_areas": null,
            "object_position": null,
            "object_fit": null,
            "grid_auto_columns": null,
            "margin": null,
            "display": null,
            "left": null
          }
        },
        "e3982224e4404c28920a37bd7e53a3fe": {
          "model_module": "@jupyter-widgets/controls",
          "model_name": "FloatProgressModel",
          "state": {
            "_view_name": "ProgressView",
            "style": "IPY_MODEL_464052fa2abb47419df03948e28062bb",
            "_dom_classes": [],
            "description": "100%",
            "_model_name": "FloatProgressModel",
            "bar_style": "success",
            "max": 1400,
            "_view_module": "@jupyter-widgets/controls",
            "_model_module_version": "1.5.0",
            "value": 1400,
            "_view_count": null,
            "_view_module_version": "1.5.0",
            "orientation": "horizontal",
            "min": 0,
            "description_tooltip": null,
            "_model_module": "@jupyter-widgets/controls",
            "layout": "IPY_MODEL_3c0cd07ce7d94a988739d04035550ce4"
          }
        },
        "12bebca86cc3404383d68187e92507d7": {
          "model_module": "@jupyter-widgets/controls",
          "model_name": "HTMLModel",
          "state": {
            "_view_name": "HTMLView",
            "style": "IPY_MODEL_c1145e3cd3f64f3f90c61553ff34cdb9",
            "_dom_classes": [],
            "description": "",
            "_model_name": "HTMLModel",
            "placeholder": "​",
            "_view_module": "@jupyter-widgets/controls",
            "_model_module_version": "1.5.0",
            "value": " 1400/1400 [03:22&lt;00:00,  6.92it/s]",
            "_view_count": null,
            "_view_module_version": "1.5.0",
            "description_tooltip": null,
            "_model_module": "@jupyter-widgets/controls",
            "layout": "IPY_MODEL_f53ca2a04fe74a42acd324389d7292bf"
          }
        },
        "464052fa2abb47419df03948e28062bb": {
          "model_module": "@jupyter-widgets/controls",
          "model_name": "ProgressStyleModel",
          "state": {
            "_view_name": "StyleView",
            "_model_name": "ProgressStyleModel",
            "description_width": "initial",
            "_view_module": "@jupyter-widgets/base",
            "_model_module_version": "1.5.0",
            "_view_count": null,
            "_view_module_version": "1.2.0",
            "bar_color": null,
            "_model_module": "@jupyter-widgets/controls"
          }
        },
        "3c0cd07ce7d94a988739d04035550ce4": {
          "model_module": "@jupyter-widgets/base",
          "model_name": "LayoutModel",
          "state": {
            "_view_name": "LayoutView",
            "grid_template_rows": null,
            "right": null,
            "justify_content": null,
            "_view_module": "@jupyter-widgets/base",
            "overflow": null,
            "_model_module_version": "1.2.0",
            "_view_count": null,
            "flex_flow": null,
            "width": null,
            "min_width": null,
            "border": null,
            "align_items": null,
            "bottom": null,
            "_model_module": "@jupyter-widgets/base",
            "top": null,
            "grid_column": null,
            "overflow_y": null,
            "overflow_x": null,
            "grid_auto_flow": null,
            "grid_area": null,
            "grid_template_columns": null,
            "flex": null,
            "_model_name": "LayoutModel",
            "justify_items": null,
            "grid_row": null,
            "max_height": null,
            "align_content": null,
            "visibility": null,
            "align_self": null,
            "height": null,
            "min_height": null,
            "padding": null,
            "grid_auto_rows": null,
            "grid_gap": null,
            "max_width": null,
            "order": null,
            "_view_module_version": "1.2.0",
            "grid_template_areas": null,
            "object_position": null,
            "object_fit": null,
            "grid_auto_columns": null,
            "margin": null,
            "display": null,
            "left": null
          }
        },
        "c1145e3cd3f64f3f90c61553ff34cdb9": {
          "model_module": "@jupyter-widgets/controls",
          "model_name": "DescriptionStyleModel",
          "state": {
            "_view_name": "StyleView",
            "_model_name": "DescriptionStyleModel",
            "description_width": "",
            "_view_module": "@jupyter-widgets/base",
            "_model_module_version": "1.5.0",
            "_view_count": null,
            "_view_module_version": "1.2.0",
            "_model_module": "@jupyter-widgets/controls"
          }
        },
        "f53ca2a04fe74a42acd324389d7292bf": {
          "model_module": "@jupyter-widgets/base",
          "model_name": "LayoutModel",
          "state": {
            "_view_name": "LayoutView",
            "grid_template_rows": null,
            "right": null,
            "justify_content": null,
            "_view_module": "@jupyter-widgets/base",
            "overflow": null,
            "_model_module_version": "1.2.0",
            "_view_count": null,
            "flex_flow": null,
            "width": null,
            "min_width": null,
            "border": null,
            "align_items": null,
            "bottom": null,
            "_model_module": "@jupyter-widgets/base",
            "top": null,
            "grid_column": null,
            "overflow_y": null,
            "overflow_x": null,
            "grid_auto_flow": null,
            "grid_area": null,
            "grid_template_columns": null,
            "flex": null,
            "_model_name": "LayoutModel",
            "justify_items": null,
            "grid_row": null,
            "max_height": null,
            "align_content": null,
            "visibility": null,
            "align_self": null,
            "height": null,
            "min_height": null,
            "padding": null,
            "grid_auto_rows": null,
            "grid_gap": null,
            "max_width": null,
            "order": null,
            "_view_module_version": "1.2.0",
            "grid_template_areas": null,
            "object_position": null,
            "object_fit": null,
            "grid_auto_columns": null,
            "margin": null,
            "display": null,
            "left": null
          }
        },
        "bd4fa3209afd43af8850295b74d5fef1": {
          "model_module": "@jupyter-widgets/controls",
          "model_name": "HBoxModel",
          "state": {
            "_view_name": "HBoxView",
            "_dom_classes": [],
            "_model_name": "HBoxModel",
            "_view_module": "@jupyter-widgets/controls",
            "_model_module_version": "1.5.0",
            "_view_count": null,
            "_view_module_version": "1.5.0",
            "box_style": "",
            "layout": "IPY_MODEL_e0f36fbb1e184a8da8d90d4de5f33db3",
            "_model_module": "@jupyter-widgets/controls",
            "children": [
              "IPY_MODEL_b091c2d9cf644226902905261c1e515c",
              "IPY_MODEL_2bd98cbfa6884ce39d110062eea9296f"
            ]
          }
        },
        "e0f36fbb1e184a8da8d90d4de5f33db3": {
          "model_module": "@jupyter-widgets/base",
          "model_name": "LayoutModel",
          "state": {
            "_view_name": "LayoutView",
            "grid_template_rows": null,
            "right": null,
            "justify_content": null,
            "_view_module": "@jupyter-widgets/base",
            "overflow": null,
            "_model_module_version": "1.2.0",
            "_view_count": null,
            "flex_flow": null,
            "width": null,
            "min_width": null,
            "border": null,
            "align_items": null,
            "bottom": null,
            "_model_module": "@jupyter-widgets/base",
            "top": null,
            "grid_column": null,
            "overflow_y": null,
            "overflow_x": null,
            "grid_auto_flow": null,
            "grid_area": null,
            "grid_template_columns": null,
            "flex": null,
            "_model_name": "LayoutModel",
            "justify_items": null,
            "grid_row": null,
            "max_height": null,
            "align_content": null,
            "visibility": null,
            "align_self": null,
            "height": null,
            "min_height": null,
            "padding": null,
            "grid_auto_rows": null,
            "grid_gap": null,
            "max_width": null,
            "order": null,
            "_view_module_version": "1.2.0",
            "grid_template_areas": null,
            "object_position": null,
            "object_fit": null,
            "grid_auto_columns": null,
            "margin": null,
            "display": null,
            "left": null
          }
        },
        "b091c2d9cf644226902905261c1e515c": {
          "model_module": "@jupyter-widgets/controls",
          "model_name": "FloatProgressModel",
          "state": {
            "_view_name": "ProgressView",
            "style": "IPY_MODEL_270cd1d1e66e4caf878ffd4faa03e7f9",
            "_dom_classes": [],
            "description": "100%",
            "_model_name": "FloatProgressModel",
            "bar_style": "success",
            "max": 600,
            "_view_module": "@jupyter-widgets/controls",
            "_model_module_version": "1.5.0",
            "value": 600,
            "_view_count": null,
            "_view_module_version": "1.5.0",
            "orientation": "horizontal",
            "min": 0,
            "description_tooltip": null,
            "_model_module": "@jupyter-widgets/controls",
            "layout": "IPY_MODEL_30f9e35c29ef400bb268257adf054e06"
          }
        },
        "2bd98cbfa6884ce39d110062eea9296f": {
          "model_module": "@jupyter-widgets/controls",
          "model_name": "HTMLModel",
          "state": {
            "_view_name": "HTMLView",
            "style": "IPY_MODEL_10ccb375d002469cbc3b2c6260cd14e2",
            "_dom_classes": [],
            "description": "",
            "_model_name": "HTMLModel",
            "placeholder": "​",
            "_view_module": "@jupyter-widgets/controls",
            "_model_module_version": "1.5.0",
            "value": " 600/600 [01:03&lt;00:00,  9.44it/s]",
            "_view_count": null,
            "_view_module_version": "1.5.0",
            "description_tooltip": null,
            "_model_module": "@jupyter-widgets/controls",
            "layout": "IPY_MODEL_3c2ee7b72e0b4eda89ec753da70fcb1c"
          }
        },
        "270cd1d1e66e4caf878ffd4faa03e7f9": {
          "model_module": "@jupyter-widgets/controls",
          "model_name": "ProgressStyleModel",
          "state": {
            "_view_name": "StyleView",
            "_model_name": "ProgressStyleModel",
            "description_width": "initial",
            "_view_module": "@jupyter-widgets/base",
            "_model_module_version": "1.5.0",
            "_view_count": null,
            "_view_module_version": "1.2.0",
            "bar_color": null,
            "_model_module": "@jupyter-widgets/controls"
          }
        },
        "30f9e35c29ef400bb268257adf054e06": {
          "model_module": "@jupyter-widgets/base",
          "model_name": "LayoutModel",
          "state": {
            "_view_name": "LayoutView",
            "grid_template_rows": null,
            "right": null,
            "justify_content": null,
            "_view_module": "@jupyter-widgets/base",
            "overflow": null,
            "_model_module_version": "1.2.0",
            "_view_count": null,
            "flex_flow": null,
            "width": null,
            "min_width": null,
            "border": null,
            "align_items": null,
            "bottom": null,
            "_model_module": "@jupyter-widgets/base",
            "top": null,
            "grid_column": null,
            "overflow_y": null,
            "overflow_x": null,
            "grid_auto_flow": null,
            "grid_area": null,
            "grid_template_columns": null,
            "flex": null,
            "_model_name": "LayoutModel",
            "justify_items": null,
            "grid_row": null,
            "max_height": null,
            "align_content": null,
            "visibility": null,
            "align_self": null,
            "height": null,
            "min_height": null,
            "padding": null,
            "grid_auto_rows": null,
            "grid_gap": null,
            "max_width": null,
            "order": null,
            "_view_module_version": "1.2.0",
            "grid_template_areas": null,
            "object_position": null,
            "object_fit": null,
            "grid_auto_columns": null,
            "margin": null,
            "display": null,
            "left": null
          }
        },
        "10ccb375d002469cbc3b2c6260cd14e2": {
          "model_module": "@jupyter-widgets/controls",
          "model_name": "DescriptionStyleModel",
          "state": {
            "_view_name": "StyleView",
            "_model_name": "DescriptionStyleModel",
            "description_width": "",
            "_view_module": "@jupyter-widgets/base",
            "_model_module_version": "1.5.0",
            "_view_count": null,
            "_view_module_version": "1.2.0",
            "_model_module": "@jupyter-widgets/controls"
          }
        },
        "3c2ee7b72e0b4eda89ec753da70fcb1c": {
          "model_module": "@jupyter-widgets/base",
          "model_name": "LayoutModel",
          "state": {
            "_view_name": "LayoutView",
            "grid_template_rows": null,
            "right": null,
            "justify_content": null,
            "_view_module": "@jupyter-widgets/base",
            "overflow": null,
            "_model_module_version": "1.2.0",
            "_view_count": null,
            "flex_flow": null,
            "width": null,
            "min_width": null,
            "border": null,
            "align_items": null,
            "bottom": null,
            "_model_module": "@jupyter-widgets/base",
            "top": null,
            "grid_column": null,
            "overflow_y": null,
            "overflow_x": null,
            "grid_auto_flow": null,
            "grid_area": null,
            "grid_template_columns": null,
            "flex": null,
            "_model_name": "LayoutModel",
            "justify_items": null,
            "grid_row": null,
            "max_height": null,
            "align_content": null,
            "visibility": null,
            "align_self": null,
            "height": null,
            "min_height": null,
            "padding": null,
            "grid_auto_rows": null,
            "grid_gap": null,
            "max_width": null,
            "order": null,
            "_view_module_version": "1.2.0",
            "grid_template_areas": null,
            "object_position": null,
            "object_fit": null,
            "grid_auto_columns": null,
            "margin": null,
            "display": null,
            "left": null
          }
        },
        "35d6c7f90e60498ebaa7dc63ebb0d9c9": {
          "model_module": "@jupyter-widgets/controls",
          "model_name": "HBoxModel",
          "state": {
            "_view_name": "HBoxView",
            "_dom_classes": [],
            "_model_name": "HBoxModel",
            "_view_module": "@jupyter-widgets/controls",
            "_model_module_version": "1.5.0",
            "_view_count": null,
            "_view_module_version": "1.5.0",
            "box_style": "",
            "layout": "IPY_MODEL_3edcbd686e77412fa310b8f88b8da1f7",
            "_model_module": "@jupyter-widgets/controls",
            "children": [
              "IPY_MODEL_112f707b5b4d49c4826e623c8ccf54a4",
              "IPY_MODEL_4a9a88335858482fbbd000a4b491d684"
            ]
          }
        },
        "3edcbd686e77412fa310b8f88b8da1f7": {
          "model_module": "@jupyter-widgets/base",
          "model_name": "LayoutModel",
          "state": {
            "_view_name": "LayoutView",
            "grid_template_rows": null,
            "right": null,
            "justify_content": null,
            "_view_module": "@jupyter-widgets/base",
            "overflow": null,
            "_model_module_version": "1.2.0",
            "_view_count": null,
            "flex_flow": null,
            "width": null,
            "min_width": null,
            "border": null,
            "align_items": null,
            "bottom": null,
            "_model_module": "@jupyter-widgets/base",
            "top": null,
            "grid_column": null,
            "overflow_y": null,
            "overflow_x": null,
            "grid_auto_flow": null,
            "grid_area": null,
            "grid_template_columns": null,
            "flex": null,
            "_model_name": "LayoutModel",
            "justify_items": null,
            "grid_row": null,
            "max_height": null,
            "align_content": null,
            "visibility": null,
            "align_self": null,
            "height": null,
            "min_height": null,
            "padding": null,
            "grid_auto_rows": null,
            "grid_gap": null,
            "max_width": null,
            "order": null,
            "_view_module_version": "1.2.0",
            "grid_template_areas": null,
            "object_position": null,
            "object_fit": null,
            "grid_auto_columns": null,
            "margin": null,
            "display": null,
            "left": null
          }
        },
        "112f707b5b4d49c4826e623c8ccf54a4": {
          "model_module": "@jupyter-widgets/controls",
          "model_name": "FloatProgressModel",
          "state": {
            "_view_name": "ProgressView",
            "style": "IPY_MODEL_5dfff3f041d24273b414a13197336d71",
            "_dom_classes": [],
            "description": "100%",
            "_model_name": "FloatProgressModel",
            "bar_style": "success",
            "max": 1400,
            "_view_module": "@jupyter-widgets/controls",
            "_model_module_version": "1.5.0",
            "value": 1400,
            "_view_count": null,
            "_view_module_version": "1.5.0",
            "orientation": "horizontal",
            "min": 0,
            "description_tooltip": null,
            "_model_module": "@jupyter-widgets/controls",
            "layout": "IPY_MODEL_351fbd49bd4d4c4fa3ee25df0831b7f8"
          }
        },
        "4a9a88335858482fbbd000a4b491d684": {
          "model_module": "@jupyter-widgets/controls",
          "model_name": "HTMLModel",
          "state": {
            "_view_name": "HTMLView",
            "style": "IPY_MODEL_5828936e3b0b498b9a5fcf64b194a789",
            "_dom_classes": [],
            "description": "",
            "_model_name": "HTMLModel",
            "placeholder": "​",
            "_view_module": "@jupyter-widgets/controls",
            "_model_module_version": "1.5.0",
            "value": " 1400/1400 [00:07&lt;00:00, 194.92it/s]",
            "_view_count": null,
            "_view_module_version": "1.5.0",
            "description_tooltip": null,
            "_model_module": "@jupyter-widgets/controls",
            "layout": "IPY_MODEL_4906dc2bf3ed4960a32eac64c3ad4b6d"
          }
        },
        "5dfff3f041d24273b414a13197336d71": {
          "model_module": "@jupyter-widgets/controls",
          "model_name": "ProgressStyleModel",
          "state": {
            "_view_name": "StyleView",
            "_model_name": "ProgressStyleModel",
            "description_width": "initial",
            "_view_module": "@jupyter-widgets/base",
            "_model_module_version": "1.5.0",
            "_view_count": null,
            "_view_module_version": "1.2.0",
            "bar_color": null,
            "_model_module": "@jupyter-widgets/controls"
          }
        },
        "351fbd49bd4d4c4fa3ee25df0831b7f8": {
          "model_module": "@jupyter-widgets/base",
          "model_name": "LayoutModel",
          "state": {
            "_view_name": "LayoutView",
            "grid_template_rows": null,
            "right": null,
            "justify_content": null,
            "_view_module": "@jupyter-widgets/base",
            "overflow": null,
            "_model_module_version": "1.2.0",
            "_view_count": null,
            "flex_flow": null,
            "width": null,
            "min_width": null,
            "border": null,
            "align_items": null,
            "bottom": null,
            "_model_module": "@jupyter-widgets/base",
            "top": null,
            "grid_column": null,
            "overflow_y": null,
            "overflow_x": null,
            "grid_auto_flow": null,
            "grid_area": null,
            "grid_template_columns": null,
            "flex": null,
            "_model_name": "LayoutModel",
            "justify_items": null,
            "grid_row": null,
            "max_height": null,
            "align_content": null,
            "visibility": null,
            "align_self": null,
            "height": null,
            "min_height": null,
            "padding": null,
            "grid_auto_rows": null,
            "grid_gap": null,
            "max_width": null,
            "order": null,
            "_view_module_version": "1.2.0",
            "grid_template_areas": null,
            "object_position": null,
            "object_fit": null,
            "grid_auto_columns": null,
            "margin": null,
            "display": null,
            "left": null
          }
        },
        "5828936e3b0b498b9a5fcf64b194a789": {
          "model_module": "@jupyter-widgets/controls",
          "model_name": "DescriptionStyleModel",
          "state": {
            "_view_name": "StyleView",
            "_model_name": "DescriptionStyleModel",
            "description_width": "",
            "_view_module": "@jupyter-widgets/base",
            "_model_module_version": "1.5.0",
            "_view_count": null,
            "_view_module_version": "1.2.0",
            "_model_module": "@jupyter-widgets/controls"
          }
        },
        "4906dc2bf3ed4960a32eac64c3ad4b6d": {
          "model_module": "@jupyter-widgets/base",
          "model_name": "LayoutModel",
          "state": {
            "_view_name": "LayoutView",
            "grid_template_rows": null,
            "right": null,
            "justify_content": null,
            "_view_module": "@jupyter-widgets/base",
            "overflow": null,
            "_model_module_version": "1.2.0",
            "_view_count": null,
            "flex_flow": null,
            "width": null,
            "min_width": null,
            "border": null,
            "align_items": null,
            "bottom": null,
            "_model_module": "@jupyter-widgets/base",
            "top": null,
            "grid_column": null,
            "overflow_y": null,
            "overflow_x": null,
            "grid_auto_flow": null,
            "grid_area": null,
            "grid_template_columns": null,
            "flex": null,
            "_model_name": "LayoutModel",
            "justify_items": null,
            "grid_row": null,
            "max_height": null,
            "align_content": null,
            "visibility": null,
            "align_self": null,
            "height": null,
            "min_height": null,
            "padding": null,
            "grid_auto_rows": null,
            "grid_gap": null,
            "max_width": null,
            "order": null,
            "_view_module_version": "1.2.0",
            "grid_template_areas": null,
            "object_position": null,
            "object_fit": null,
            "grid_auto_columns": null,
            "margin": null,
            "display": null,
            "left": null
          }
        },
        "656e00aacf3c4db8a40ebfb9b21b9125": {
          "model_module": "@jupyter-widgets/controls",
          "model_name": "HBoxModel",
          "state": {
            "_view_name": "HBoxView",
            "_dom_classes": [],
            "_model_name": "HBoxModel",
            "_view_module": "@jupyter-widgets/controls",
            "_model_module_version": "1.5.0",
            "_view_count": null,
            "_view_module_version": "1.5.0",
            "box_style": "",
            "layout": "IPY_MODEL_8770ed7539514749b6ba03147d8c1d37",
            "_model_module": "@jupyter-widgets/controls",
            "children": [
              "IPY_MODEL_269a6c647c184bc08f0c99dd6b3458bd",
              "IPY_MODEL_cae8ee8d56fe450ea31b618e31dc8fe8"
            ]
          }
        },
        "8770ed7539514749b6ba03147d8c1d37": {
          "model_module": "@jupyter-widgets/base",
          "model_name": "LayoutModel",
          "state": {
            "_view_name": "LayoutView",
            "grid_template_rows": null,
            "right": null,
            "justify_content": null,
            "_view_module": "@jupyter-widgets/base",
            "overflow": null,
            "_model_module_version": "1.2.0",
            "_view_count": null,
            "flex_flow": null,
            "width": null,
            "min_width": null,
            "border": null,
            "align_items": null,
            "bottom": null,
            "_model_module": "@jupyter-widgets/base",
            "top": null,
            "grid_column": null,
            "overflow_y": null,
            "overflow_x": null,
            "grid_auto_flow": null,
            "grid_area": null,
            "grid_template_columns": null,
            "flex": null,
            "_model_name": "LayoutModel",
            "justify_items": null,
            "grid_row": null,
            "max_height": null,
            "align_content": null,
            "visibility": null,
            "align_self": null,
            "height": null,
            "min_height": null,
            "padding": null,
            "grid_auto_rows": null,
            "grid_gap": null,
            "max_width": null,
            "order": null,
            "_view_module_version": "1.2.0",
            "grid_template_areas": null,
            "object_position": null,
            "object_fit": null,
            "grid_auto_columns": null,
            "margin": null,
            "display": null,
            "left": null
          }
        },
        "269a6c647c184bc08f0c99dd6b3458bd": {
          "model_module": "@jupyter-widgets/controls",
          "model_name": "FloatProgressModel",
          "state": {
            "_view_name": "ProgressView",
            "style": "IPY_MODEL_329e5af4dc6b485a96db2eb61db92b69",
            "_dom_classes": [],
            "description": "100%",
            "_model_name": "FloatProgressModel",
            "bar_style": "success",
            "max": 600,
            "_view_module": "@jupyter-widgets/controls",
            "_model_module_version": "1.5.0",
            "value": 600,
            "_view_count": null,
            "_view_module_version": "1.5.0",
            "orientation": "horizontal",
            "min": 0,
            "description_tooltip": null,
            "_model_module": "@jupyter-widgets/controls",
            "layout": "IPY_MODEL_fa088f9819624ca79e0a737798e2814a"
          }
        },
        "cae8ee8d56fe450ea31b618e31dc8fe8": {
          "model_module": "@jupyter-widgets/controls",
          "model_name": "HTMLModel",
          "state": {
            "_view_name": "HTMLView",
            "style": "IPY_MODEL_f11ee46f5e924645bafc0012d904b253",
            "_dom_classes": [],
            "description": "",
            "_model_name": "HTMLModel",
            "placeholder": "​",
            "_view_module": "@jupyter-widgets/controls",
            "_model_module_version": "1.5.0",
            "value": " 600/600 [00:31&lt;00:00, 19.35it/s]",
            "_view_count": null,
            "_view_module_version": "1.5.0",
            "description_tooltip": null,
            "_model_module": "@jupyter-widgets/controls",
            "layout": "IPY_MODEL_111634ebad304c2b96d5fd8d50da48b1"
          }
        },
        "329e5af4dc6b485a96db2eb61db92b69": {
          "model_module": "@jupyter-widgets/controls",
          "model_name": "ProgressStyleModel",
          "state": {
            "_view_name": "StyleView",
            "_model_name": "ProgressStyleModel",
            "description_width": "initial",
            "_view_module": "@jupyter-widgets/base",
            "_model_module_version": "1.5.0",
            "_view_count": null,
            "_view_module_version": "1.2.0",
            "bar_color": null,
            "_model_module": "@jupyter-widgets/controls"
          }
        },
        "fa088f9819624ca79e0a737798e2814a": {
          "model_module": "@jupyter-widgets/base",
          "model_name": "LayoutModel",
          "state": {
            "_view_name": "LayoutView",
            "grid_template_rows": null,
            "right": null,
            "justify_content": null,
            "_view_module": "@jupyter-widgets/base",
            "overflow": null,
            "_model_module_version": "1.2.0",
            "_view_count": null,
            "flex_flow": null,
            "width": null,
            "min_width": null,
            "border": null,
            "align_items": null,
            "bottom": null,
            "_model_module": "@jupyter-widgets/base",
            "top": null,
            "grid_column": null,
            "overflow_y": null,
            "overflow_x": null,
            "grid_auto_flow": null,
            "grid_area": null,
            "grid_template_columns": null,
            "flex": null,
            "_model_name": "LayoutModel",
            "justify_items": null,
            "grid_row": null,
            "max_height": null,
            "align_content": null,
            "visibility": null,
            "align_self": null,
            "height": null,
            "min_height": null,
            "padding": null,
            "grid_auto_rows": null,
            "grid_gap": null,
            "max_width": null,
            "order": null,
            "_view_module_version": "1.2.0",
            "grid_template_areas": null,
            "object_position": null,
            "object_fit": null,
            "grid_auto_columns": null,
            "margin": null,
            "display": null,
            "left": null
          }
        },
        "f11ee46f5e924645bafc0012d904b253": {
          "model_module": "@jupyter-widgets/controls",
          "model_name": "DescriptionStyleModel",
          "state": {
            "_view_name": "StyleView",
            "_model_name": "DescriptionStyleModel",
            "description_width": "",
            "_view_module": "@jupyter-widgets/base",
            "_model_module_version": "1.5.0",
            "_view_count": null,
            "_view_module_version": "1.2.0",
            "_model_module": "@jupyter-widgets/controls"
          }
        },
        "111634ebad304c2b96d5fd8d50da48b1": {
          "model_module": "@jupyter-widgets/base",
          "model_name": "LayoutModel",
          "state": {
            "_view_name": "LayoutView",
            "grid_template_rows": null,
            "right": null,
            "justify_content": null,
            "_view_module": "@jupyter-widgets/base",
            "overflow": null,
            "_model_module_version": "1.2.0",
            "_view_count": null,
            "flex_flow": null,
            "width": null,
            "min_width": null,
            "border": null,
            "align_items": null,
            "bottom": null,
            "_model_module": "@jupyter-widgets/base",
            "top": null,
            "grid_column": null,
            "overflow_y": null,
            "overflow_x": null,
            "grid_auto_flow": null,
            "grid_area": null,
            "grid_template_columns": null,
            "flex": null,
            "_model_name": "LayoutModel",
            "justify_items": null,
            "grid_row": null,
            "max_height": null,
            "align_content": null,
            "visibility": null,
            "align_self": null,
            "height": null,
            "min_height": null,
            "padding": null,
            "grid_auto_rows": null,
            "grid_gap": null,
            "max_width": null,
            "order": null,
            "_view_module_version": "1.2.0",
            "grid_template_areas": null,
            "object_position": null,
            "object_fit": null,
            "grid_auto_columns": null,
            "margin": null,
            "display": null,
            "left": null
          }
        }
      }
    }
  },
  "cells": [
    {
      "cell_type": "code",
      "metadata": {
        "id": "CsB6C9L0hG7F"
      },
      "source": [
        "!pip install keras==2.0.6"
      ],
      "execution_count": null,
      "outputs": []
    },
    {
      "cell_type": "code",
      "metadata": {
        "id": "aUXl73wHoqln"
      },
      "source": [
        "pip install tensorflow==1.13.2"
      ],
      "execution_count": null,
      "outputs": []
    },
    {
      "cell_type": "code",
      "metadata": {
        "colab": {
          "base_uri": "https://localhost:8080/"
        },
        "id": "amhhCFgsS2qO",
        "outputId": "1fd279c7-0389-4a54-e345-9f75800d5822"
      },
      "source": [
        "!wget --header=\"Host: doc-1g-7o-drive-data-export.googleusercontent.com\" --header=\"User-Agent: Mozilla/5.0 (X11; Linux x86_64) AppleWebKit/537.36 (KHTML, like Gecko) Chrome/86.0.4240.111 Safari/537.36\" --header=\"Accept: text/html,application/xhtml+xml,application/xml;q=0.9,image/avif,image/webp,image/apng,*/*;q=0.8,application/signed-exchange;v=b3;q=0.9\" --header=\"Accept-Language: en-US,en;q=0.9,so;q=0.8\" --header=\"Cookie: AUTH_7ismh8c5k5t2emov6b0lnms8vhh365nj_nonce=ifqvit7ugc28g\" --header=\"Connection: keep-alive\" \"https://doc-1g-7o-drive-data-export.googleusercontent.com/download/m1c8klmadhnkg5pme7a98mn67c86k7d3/meepf86ugnng7sbqj56go1gre3is7ite/1609317000000/aef1695a-663d-4cb7-90c3-e521e86fa7af/106986780830876159455/ADt3v-NlguI7iGpECcycBDgn30V-H-S4yhxrUu8IbBIQHQP1fycKqOOhLbT8aFhF6dF-ggl49o4PZBQvehRHc1F2kEuvm1nZPJmF7ejEvwTUK6CN5oSo34hHm1zWMS2UA6bdLsYPS_SQdsNedn1f_NJAucdPxzQCvo04Cn4uQdE06t-IgyIMks4HZMtPRCXXIPtHy_52vE1LLzhR_RIA2qXhqslHa70ftZsy1XB3KttKxiNjI447qWjAQzi47SaAxTxUlHw6ELLRhmnbO1qbC1HVfTgZIRGTcD_5r_8W-BH1KTcg1vp5YfyLztllHX_0Xe0RLg-VpayL?authuser=0&nonce=ifqvit7ugc28g&user=106986780830876159455&hash=rlg07fa6id5hu2r3pndo8gf97din6fn7\" -c -O 'recordings-20201230T092742Z-001.zip'"
      ],
      "execution_count": 2,
      "outputs": [
        {
          "output_type": "stream",
          "text": [
            "--2020-12-30 09:31:03--  https://doc-1g-7o-drive-data-export.googleusercontent.com/download/m1c8klmadhnkg5pme7a98mn67c86k7d3/meepf86ugnng7sbqj56go1gre3is7ite/1609317000000/aef1695a-663d-4cb7-90c3-e521e86fa7af/106986780830876159455/ADt3v-NlguI7iGpECcycBDgn30V-H-S4yhxrUu8IbBIQHQP1fycKqOOhLbT8aFhF6dF-ggl49o4PZBQvehRHc1F2kEuvm1nZPJmF7ejEvwTUK6CN5oSo34hHm1zWMS2UA6bdLsYPS_SQdsNedn1f_NJAucdPxzQCvo04Cn4uQdE06t-IgyIMks4HZMtPRCXXIPtHy_52vE1LLzhR_RIA2qXhqslHa70ftZsy1XB3KttKxiNjI447qWjAQzi47SaAxTxUlHw6ELLRhmnbO1qbC1HVfTgZIRGTcD_5r_8W-BH1KTcg1vp5YfyLztllHX_0Xe0RLg-VpayL?authuser=0&nonce=ifqvit7ugc28g&user=106986780830876159455&hash=rlg07fa6id5hu2r3pndo8gf97din6fn7\n",
            "Resolving doc-1g-7o-drive-data-export.googleusercontent.com (doc-1g-7o-drive-data-export.googleusercontent.com)... 172.217.9.193, 2607:f8b0:4004:806::2001\n",
            "Connecting to doc-1g-7o-drive-data-export.googleusercontent.com (doc-1g-7o-drive-data-export.googleusercontent.com)|172.217.9.193|:443... connected.\n",
            "HTTP request sent, awaiting response... 200 OK\n",
            "Length: 9460593 (9.0M) [application/octet-stream]\n",
            "Saving to: ‘recordings-20201230T092742Z-001.zip’\n",
            "\n",
            "recordings-20201230 100%[===================>]   9.02M  --.-KB/s    in 0.1s    \n",
            "\n",
            "2020-12-30 09:31:04 (73.2 MB/s) - ‘recordings-20201230T092742Z-001.zip’ saved [9460593/9460593]\n",
            "\n"
          ],
          "name": "stdout"
        }
      ]
    },
    {
      "cell_type": "code",
      "metadata": {
        "id": "g8BL8Mhg-3Yv"
      },
      "source": [
        "!mkdir recordings\n",
        "!unzip recordings.zip"
      ],
      "execution_count": 3,
      "outputs": []
    },
    {
      "cell_type": "code",
      "metadata": {
        "id": "Y3ZiZM1iUE3N"
      },
      "source": [
        "import numpy as np\n",
        "import pandas as pd\n",
        "import librosa\n",
        "import os\n",
        "img_folder_path = 'recordings/'\n",
        "dirListing = os.listdir(img_folder_path)\n",
        "all_files = []\n",
        "count=0"
      ],
      "execution_count": 3,
      "outputs": []
    },
    {
      "cell_type": "code",
      "metadata": {
        "id": "cMHzzN64ULiw"
      },
      "source": [
        "for files in dirListing:\n",
        "  all_files.append('recordings/' + files)"
      ],
      "execution_count": 4,
      "outputs": []
    },
    {
      "cell_type": "code",
      "metadata": {
        "colab": {
          "base_uri": "https://localhost:8080/"
        },
        "id": "4pnfeCVbUQWy",
        "outputId": "db1a62ce-569c-4823-e2e7-59c7ea4b5b39"
      },
      "source": [
        "def grader_files():\n",
        "  temp = len(all_files)==2000\n",
        "  temp1 = all([x[-3:]==\"wav\" for x in all_files])\n",
        "  temp = temp and temp1\n",
        "  return temp\n",
        "grader_files()"
      ],
      "execution_count": 5,
      "outputs": [
        {
          "output_type": "execute_result",
          "data": {
            "text/plain": [
              "True"
            ]
          },
          "metadata": {
            "tags": []
          },
          "execution_count": 5
        }
      ]
    },
    {
      "cell_type": "code",
      "metadata": {
        "id": "j_CPQW1pUSS3"
      },
      "source": [
        "df_audio = pd.DataFrame(columns = ['path', 'label']) \n",
        "for item in all_files:\n",
        "  path = item\n",
        "  label = item.split('_')[0]\n",
        "  label = label.split('/')[1]\n",
        "  df_audio=df_audio.append({'path':path,'label':label},ignore_index=True)"
      ],
      "execution_count": 6,
      "outputs": []
    },
    {
      "cell_type": "code",
      "metadata": {
        "colab": {
          "base_uri": "https://localhost:8080/"
        },
        "id": "QAZDptykUZpr",
        "outputId": "677d26d0-167d-429a-e6ac-5f5fdf8aec24"
      },
      "source": [
        "def grader_df():  \n",
        "  flag_shape = df_audio.shape==(2000,2)\n",
        "  flag_columns = all(df_audio.columns==['path', 'label'])\n",
        "  list_values = list(df_audio.label.value_counts())\n",
        "  flag_label = len(list_values)==10\n",
        "  flag_label2 = all([i==200 for i in list_values])\n",
        "  final_flag = flag_shape and flag_columns and flag_label and flag_label2\n",
        "  return final_flag\n",
        "grader_df()"
      ],
      "execution_count": 7,
      "outputs": [
        {
          "output_type": "execute_result",
          "data": {
            "text/plain": [
              "True"
            ]
          },
          "metadata": {
            "tags": []
          },
          "execution_count": 7
        }
      ]
    },
    {
      "cell_type": "code",
      "metadata": {
        "id": "6bk-YcfOUefX"
      },
      "source": [
        "from sklearn.utils import shuffle\n",
        "df_audio = shuffle(df_audio, random_state=33)\n",
        "\n",
        "from sklearn.model_selection import train_test_split\n",
        "y = df_audio['label']\n",
        "df_audio = df_audio.drop(['label'],axis=1)\n",
        "X = df_audio\n",
        "\n",
        "\n",
        "X_train, X_test, y_train, y_test = train_test_split(X, y, test_size=0.3, stratify = y, random_state=45)"
      ],
      "execution_count": 8,
      "outputs": []
    },
    {
      "cell_type": "code",
      "metadata": {
        "colab": {
          "base_uri": "https://localhost:8080/"
        },
        "id": "A4Qf-iLmUl1-",
        "outputId": "43f5bbdd-cc4d-4ca6-c3db-e78bc81e978c"
      },
      "source": [
        "def grader_split():  \n",
        "  flag_len = (len(X_train)==1400) and (len(X_test)==600) and (len(y_train)==1400) and (len(y_test)==600)\n",
        "  values_ytrain = list(y_train.value_counts())\n",
        "  flag_ytrain = (len(values_ytrain)==10) and (all([i==140 for i in values_ytrain]))\n",
        "  values_ytest = list(y_test.value_counts())\n",
        "  flag_ytest = (len(values_ytest)==10) and (all([i==60 for i in values_ytest]))\n",
        "  final_flag = flag_len and flag_ytrain and flag_ytest\n",
        "  return final_flag\n",
        "grader_split()"
      ],
      "execution_count": 9,
      "outputs": [
        {
          "output_type": "execute_result",
          "data": {
            "text/plain": [
              "True"
            ]
          },
          "metadata": {
            "tags": []
          },
          "execution_count": 9
        }
      ]
    },
    {
      "cell_type": "code",
      "metadata": {
        "id": "z_KFP8EbUo-j"
      },
      "source": [
        "sample_rate = 22050\n",
        "def load_wav(x, get_duration=True):\n",
        "  samples, sample_rate = librosa.load(x, sr=22050)\n",
        "  if get_duration:\n",
        "    duration = librosa.get_duration(samples, sample_rate)\n",
        "    return [samples, duration]\n",
        "  else:\n",
        "    return samples\n",
        "\n",
        "X_train_new = X_train['path']\n",
        "X_test_new = X_test['path']\n",
        "\n",
        "X_train_processed = pd.DataFrame(columns = ['raw_data', 'duration'])\n",
        "X_test_processed = pd.DataFrame(columns=['raw_data','duration'])"
      ],
      "execution_count": 10,
      "outputs": []
    },
    {
      "cell_type": "code",
      "metadata": {
        "colab": {
          "base_uri": "https://localhost:8080/",
          "height": 66,
          "referenced_widgets": [
            "3600dbc42f91425bba03498552388998",
            "b4f241e611f14abb9bd8177b26dbf321",
            "e3982224e4404c28920a37bd7e53a3fe",
            "12bebca86cc3404383d68187e92507d7",
            "464052fa2abb47419df03948e28062bb",
            "3c0cd07ce7d94a988739d04035550ce4",
            "c1145e3cd3f64f3f90c61553ff34cdb9",
            "f53ca2a04fe74a42acd324389d7292bf"
          ]
        },
        "id": "VMoplZRDUzNV",
        "outputId": "d8edcacd-f2ec-4425-998a-b5f891a526f7"
      },
      "source": [
        "from tqdm.notebook import tqdm\n",
        "for i in tqdm(range(0,len(X_train_new))):  \n",
        "  samples,duration= load_wav(X_train_new.iloc[i])\n",
        "  X_train_processed = X_train_processed.append({'raw_data':samples,'duration':duration},ignore_index=True)"
      ],
      "execution_count": 11,
      "outputs": [
        {
          "output_type": "display_data",
          "data": {
            "application/vnd.jupyter.widget-view+json": {
              "model_id": "3600dbc42f91425bba03498552388998",
              "version_minor": 0,
              "version_major": 2
            },
            "text/plain": [
              "HBox(children=(FloatProgress(value=0.0, max=1400.0), HTML(value='')))"
            ]
          },
          "metadata": {
            "tags": []
          }
        },
        {
          "output_type": "stream",
          "text": [
            "\n"
          ],
          "name": "stdout"
        }
      ]
    },
    {
      "cell_type": "code",
      "metadata": {
        "colab": {
          "base_uri": "https://localhost:8080/",
          "height": 66,
          "referenced_widgets": [
            "bd4fa3209afd43af8850295b74d5fef1",
            "e0f36fbb1e184a8da8d90d4de5f33db3",
            "b091c2d9cf644226902905261c1e515c",
            "2bd98cbfa6884ce39d110062eea9296f",
            "270cd1d1e66e4caf878ffd4faa03e7f9",
            "30f9e35c29ef400bb268257adf054e06",
            "10ccb375d002469cbc3b2c6260cd14e2",
            "3c2ee7b72e0b4eda89ec753da70fcb1c"
          ]
        },
        "id": "Y9K4WSn7U2RL",
        "outputId": "26ac87dd-b2d0-4f0f-c54c-92b6c76a9298"
      },
      "source": [
        "for i in tqdm(range(0,len(X_test_new))):\n",
        "  samples,duration = load_wav(X_test_new.iloc[i])\n",
        "  X_test_processed = X_test_processed.append({'raw_data':samples,'duration':duration},ignore_index=True)"
      ],
      "execution_count": 12,
      "outputs": [
        {
          "output_type": "display_data",
          "data": {
            "application/vnd.jupyter.widget-view+json": {
              "model_id": "bd4fa3209afd43af8850295b74d5fef1",
              "version_minor": 0,
              "version_major": 2
            },
            "text/plain": [
              "HBox(children=(FloatProgress(value=0.0, max=600.0), HTML(value='')))"
            ]
          },
          "metadata": {
            "tags": []
          }
        },
        {
          "output_type": "stream",
          "text": [
            "\n"
          ],
          "name": "stdout"
        }
      ]
    },
    {
      "cell_type": "code",
      "metadata": {
        "colab": {
          "base_uri": "https://localhost:8080/",
          "height": 311
        },
        "id": "tRDYvcNUU7In",
        "outputId": "c7541674-38d2-410f-da1a-0723367c0ad1"
      },
      "source": [
        "import matplotlib.pyplot as plt\n",
        "x = X_train_processed['duration']\n",
        "n_bins = 10\n",
        "plt.hist(x, n_bins, density = True,  \n",
        "         histtype ='bar', \n",
        "         color = 'blue') \n",
        "plt.title('matplotlib.pyplot.hist() function Example\\n\\n', \n",
        "          fontweight =\"bold\") \n",
        "plt.show()\n"
      ],
      "execution_count": 13,
      "outputs": [
        {
          "output_type": "display_data",
          "data": {
            "image/png": "[encoded data removed]",
            "text/plain": [
              "<Figure size 432x288 with 1 Axes>"
            ]
          },
          "metadata": {
            "tags": [],
            "needs_background": "light"
          }
        }
      ]
    },
    {
      "cell_type": "code",
      "metadata": {
        "colab": {
          "base_uri": "https://localhost:8080/"
        },
        "id": "zPr0KO4vVA9C",
        "outputId": "a5cac3b8-0f4c-466c-e26f-36a3281f5183"
      },
      "source": [
        "for i in range(0,110,10):\n",
        "  print(str(i)+\"th percentile is \" + str(np.percentile(X_train_processed['duration'],i)))\n",
        "\n",
        "for i in range(90,101):\n",
        "  print(str(i)+\"th percentile is \" + str(np.percentile(X_train_processed['duration'],i)))"
      ],
      "execution_count": 14,
      "outputs": [
        {
          "output_type": "stream",
          "text": [
            "0th percentile is 0.1435374149659864\n",
            "10th percentile is 0.26312018140589566\n",
            "20th percentile is 0.30201360544217687\n",
            "30th percentile is 0.33503854875283445\n",
            "40th percentile is 0.36117913832199544\n",
            "50th percentile is 0.3920181405895692\n",
            "60th percentile is 0.418639455782313\n",
            "70th percentile is 0.44988662131519275\n",
            "80th percentile is 0.4877551020408163\n",
            "90th percentile is 0.5581768707482995\n",
            "100th percentile is 1.0351473922902494\n",
            "90th percentile is 0.5581768707482995\n",
            "91th percentile is 0.5739142857142857\n",
            "92th percentile is 0.581734240362812\n",
            "93th percentile is 0.5978285714285716\n",
            "94th percentile is 0.6112843537414965\n",
            "95th percentile is 0.6230385487528345\n",
            "96th percentile is 0.6365133786848072\n",
            "97th percentile is 0.6528367346938775\n",
            "98th percentile is 0.6744253968253967\n",
            "99th percentile is 0.7655383219954647\n",
            "100th percentile is 1.0351473922902494\n"
          ],
          "name": "stdout"
        }
      ]
    },
    {
      "cell_type": "code",
      "metadata": {
        "colab": {
          "base_uri": "https://localhost:8080/"
        },
        "id": "Xzl752Z_VLWA",
        "outputId": "96e05dc4-7708-43c9-98b7-f75718c33f99"
      },
      "source": [
        "def grader_processed():\n",
        "  flag_columns = (all(X_train_processed.columns==['raw_data', 'duration'])) and (all(X_test_processed.columns==['raw_data', 'duration']))\n",
        "  flag_shape = (X_train_processed.shape ==(1400, 2)) and (X_test_processed.shape==(600,2))\n",
        "  return flag_columns and flag_shape\n",
        "grader_processed()"
      ],
      "execution_count": 15,
      "outputs": [
        {
          "output_type": "execute_result",
          "data": {
            "text/plain": [
              "True"
            ]
          },
          "metadata": {
            "tags": []
          },
          "execution_count": 15
        }
      ]
    },
    {
      "cell_type": "code",
      "metadata": {
        "id": "EOMuoatvVMmn"
      },
      "source": [
        "max_length  = 17640\n",
        "X_raw_train= X_train_processed['raw_data']\n",
        "X_raw_test = X_test_processed['raw_data']\n",
        "\n",
        "X_train_pad_seq = np.zeros((len(X_raw_train),max_length))\n",
        "X_train_mask = np.zeros((len(X_raw_train),max_length))\n",
        "\n",
        "X_test_pad_seq = np.zeros((len(X_raw_test),max_length))\n",
        "X_test_mask = np.zeros((len(X_raw_test),max_length))"
      ],
      "execution_count": 16,
      "outputs": []
    },
    {
      "cell_type": "code",
      "metadata": {
        "id": "g7sSiqvTVSwa"
      },
      "source": [
        "index=0\n",
        "for data in X_raw_train:\n",
        "  length = len(data)\n",
        "  if (length < max_length):\n",
        "    X_train_mask[index][:length] = 1\n",
        "    X_train_pad_seq[index][:length] = data\n",
        "  \n",
        "  else:\n",
        "    X_train_mask[index][:max_length] = 1\n",
        "    X_train_pad_seq[index][:max_length] = data[:max_length]\n",
        "\n",
        "  index = index + 1\n",
        "\n",
        "index=0\n",
        "for data in X_raw_test:\n",
        "  length = len(data)\n",
        "  if (length < max_length):\n",
        "    X_test_mask[index][:length] = bool(1)\n",
        "    X_test_pad_seq[index][:length] = data\n",
        "  \n",
        "  else:\n",
        "    X_test_mask[index][:max_length] = bool(1)\n",
        "    X_test_pad_seq[index][:max_length] = data[:max_length]\n",
        "\n",
        "  index = index + 1"
      ],
      "execution_count": 17,
      "outputs": []
    },
    {
      "cell_type": "code",
      "metadata": {
        "colab": {
          "base_uri": "https://localhost:8080/"
        },
        "id": "2NUemRSMVZZm",
        "outputId": "92c692f4-0889-4f9f-8b78-debf2e34757b"
      },
      "source": [
        "X_train_mask = X_train_mask.astype(bool)\n",
        "print(X_train_mask.dtype)\n",
        "X_test_mask = X_test_mask.astype(bool)\n",
        "print(X_test_mask.dtype)"
      ],
      "execution_count": 18,
      "outputs": [
        {
          "output_type": "stream",
          "text": [
            "bool\n",
            "bool\n"
          ],
          "name": "stdout"
        }
      ]
    },
    {
      "cell_type": "code",
      "metadata": {
        "colab": {
          "base_uri": "https://localhost:8080/"
        },
        "id": "4CDliI2KVhwT",
        "outputId": "117504e4-06cb-4c01-c124-288d1d3985b1"
      },
      "source": [
        "print(type(X_train_mask))\n",
        "print(X_train_pad_seq.shape)\n",
        "print(X_test_mask.shape)\n",
        "print(X_test_pad_seq.shape)"
      ],
      "execution_count": 19,
      "outputs": [
        {
          "output_type": "stream",
          "text": [
            "<class 'numpy.ndarray'>\n",
            "(1400, 17640)\n",
            "(600, 17640)\n",
            "(600, 17640)\n"
          ],
          "name": "stdout"
        }
      ]
    },
    {
      "cell_type": "code",
      "metadata": {
        "colab": {
          "base_uri": "https://localhost:8080/"
        },
        "id": "txJKs74oVln9",
        "outputId": "435cf80c-a71a-4441-ff4b-5bea93dd016e"
      },
      "source": [
        "def grader_padoutput():      \n",
        "  flag_padshape = (X_train_pad_seq.shape==(1400, 17640)) and (X_test_pad_seq.shape==(600, 17640)) and (y_train.shape==(1400,))\n",
        "  flag_maskshape = (X_train_mask.shape==(1400, 17640)) and (X_test_mask.shape==(600, 17640)) and (y_test.shape==(600,))\n",
        "  flag_dtype = (X_train_mask.dtype==bool) and (X_test_mask.dtype==bool)\n",
        "  #print(flag_padshape,flag_maskshape,flag_dtype)\n",
        "  return flag_padshape and flag_maskshape and flag_dtype\n",
        "grader_padoutput()"
      ],
      "execution_count": 20,
      "outputs": [
        {
          "output_type": "execute_result",
          "data": {
            "text/plain": [
              "True"
            ]
          },
          "metadata": {
            "tags": []
          },
          "execution_count": 20
        }
      ]
    },
    {
      "cell_type": "markdown",
      "metadata": {
        "id": "B2x_Xc27VqyK"
      },
      "source": [
        "model 1"
      ]
    },
    {
      "cell_type": "code",
      "metadata": {
        "id": "J9-1Tar93fxZ"
      },
      "source": [
        "%load_ext tensorboard"
      ],
      "execution_count": null,
      "outputs": []
    },
    {
      "cell_type": "code",
      "metadata": {
        "id": "SmQmZ8WxV0EN",
        "colab": {
          "base_uri": "https://localhost:8080/"
        },
        "outputId": "57505354-fd5c-4663-f0e7-ff820da0b711"
      },
      "source": [
        "import tensorflow as tf"
      ],
      "execution_count": 22,
      "outputs": [
        {
          "output_type": "stream",
          "text": [
            "/usr/local/lib/python3.6/dist-packages/tensorflow/python/framework/dtypes.py:526: FutureWarning: Passing (type, 1) or '1type' as a synonym of type is deprecated; in a future version of numpy, it will be understood as (type, (1,)) / '(1,)type'.\n",
            "  _np_qint8 = np.dtype([(\"qint8\", np.int8, 1)])\n",
            "/usr/local/lib/python3.6/dist-packages/tensorflow/python/framework/dtypes.py:527: FutureWarning: Passing (type, 1) or '1type' as a synonym of type is deprecated; in a future version of numpy, it will be understood as (type, (1,)) / '(1,)type'.\n",
            "  _np_quint8 = np.dtype([(\"quint8\", np.uint8, 1)])\n",
            "/usr/local/lib/python3.6/dist-packages/tensorflow/python/framework/dtypes.py:528: FutureWarning: Passing (type, 1) or '1type' as a synonym of type is deprecated; in a future version of numpy, it will be understood as (type, (1,)) / '(1,)type'.\n",
            "  _np_qint16 = np.dtype([(\"qint16\", np.int16, 1)])\n",
            "/usr/local/lib/python3.6/dist-packages/tensorflow/python/framework/dtypes.py:529: FutureWarning: Passing (type, 1) or '1type' as a synonym of type is deprecated; in a future version of numpy, it will be understood as (type, (1,)) / '(1,)type'.\n",
            "  _np_quint16 = np.dtype([(\"quint16\", np.uint16, 1)])\n",
            "/usr/local/lib/python3.6/dist-packages/tensorflow/python/framework/dtypes.py:530: FutureWarning: Passing (type, 1) or '1type' as a synonym of type is deprecated; in a future version of numpy, it will be understood as (type, (1,)) / '(1,)type'.\n",
            "  _np_qint32 = np.dtype([(\"qint32\", np.int32, 1)])\n",
            "/usr/local/lib/python3.6/dist-packages/tensorflow/python/framework/dtypes.py:535: FutureWarning: Passing (type, 1) or '1type' as a synonym of type is deprecated; in a future version of numpy, it will be understood as (type, (1,)) / '(1,)type'.\n",
            "  np_resource = np.dtype([(\"resource\", np.ubyte, 1)])\n"
          ],
          "name": "stderr"
        }
      ]
    },
    {
      "cell_type": "code",
      "metadata": {
        "colab": {
          "base_uri": "https://localhost:8080/"
        },
        "id": "Tc6QmyxMV3gt",
        "outputId": "c904f2c5-355a-49dd-cbe0-57d7fa2d733a"
      },
      "source": [
        "input = tf.keras.Input(shape=(X_train_pad_seq.shape[1],1))\n",
        "masking = tf.keras.layers.Masking(mask_value=0)(input)\n",
        "x1 = tf.keras.layers.LSTM(25)(masking)\n",
        "x3 = tf.keras.layers.Flatten()(x1)\n",
        "x2 = tf.keras.layers.Dense(50, activation='relu',kernel_initializer='glorot_normal')(x3)\n",
        "output =tf.keras.layers.Dense(10, activation='softmax')(x2)\n",
        "\n",
        "\n",
        "\n",
        "model_1 = tf.keras.Model(inputs=input, outputs=output)\n",
        "\n",
        "model_1.summary()"
      ],
      "execution_count": 23,
      "outputs": [
        {
          "output_type": "stream",
          "text": [
            "WARNING:tensorflow:From /usr/local/lib/python3.6/dist-packages/tensorflow/python/ops/resource_variable_ops.py:435: colocate_with (from tensorflow.python.framework.ops) is deprecated and will be removed in a future version.\n",
            "Instructions for updating:\n",
            "Colocations handled automatically by placer.\n",
            "_________________________________________________________________\n",
            "Layer (type)                 Output Shape              Param #   \n",
            "=================================================================\n",
            "input_1 (InputLayer)         (None, 17640, 1)          0         \n",
            "_________________________________________________________________\n",
            "masking (Masking)            (None, 17640, 1)          0         \n",
            "_________________________________________________________________\n",
            "lstm (LSTM)                  (None, 25)                2700      \n",
            "_________________________________________________________________\n",
            "flatten (Flatten)            (None, 25)                0         \n",
            "_________________________________________________________________\n",
            "dense (Dense)                (None, 50)                1300      \n",
            "_________________________________________________________________\n",
            "dense_1 (Dense)              (None, 10)                510       \n",
            "=================================================================\n",
            "Total params: 4,510\n",
            "Trainable params: 4,510\n",
            "Non-trainable params: 0\n",
            "_________________________________________________________________\n"
          ],
          "name": "stdout"
        }
      ]
    },
    {
      "cell_type": "code",
      "metadata": {
        "id": "QKtCI_VCYTrL"
      },
      "source": [
        "X_train_pad_seq = np.reshape(X_train_pad_seq, (X_train_pad_seq.shape[0], X_train_pad_seq.shape[1],1))\n",
        "X_test_pad_seq = np.reshape(X_test_pad_seq, (X_test_pad_seq.shape[0],X_test_pad_seq.shape[1],1))"
      ],
      "execution_count": 24,
      "outputs": []
    },
    {
      "cell_type": "code",
      "metadata": {
        "colab": {
          "base_uri": "https://localhost:8080/"
        },
        "id": "GA8nwGzxY4T9",
        "outputId": "2bf18f54-ab77-4627-a27d-db264bdc7c58"
      },
      "source": [
        "X_test_pad_seq.shape"
      ],
      "execution_count": 25,
      "outputs": [
        {
          "output_type": "execute_result",
          "data": {
            "text/plain": [
              "(600, 17640, 1)"
            ]
          },
          "metadata": {
            "tags": []
          },
          "execution_count": 25
        }
      ]
    },
    {
      "cell_type": "code",
      "metadata": {
        "id": "2ggH2X51XzNt"
      },
      "source": [
        "from tensorflow import keras\n",
        "from tensorflow.keras.callbacks import ReduceLROnPlateau\n",
        "import datetime\n",
        "\n",
        "DynamicLR = ReduceLROnPlateau(monitor='val_acc', factor=0.9, patience=1, verbose=1, mode='max', cooldown=0, min_lr=0.00001)\n",
        "adam = tf.keras.optimizers.Adam(0.001)\n",
        "\n",
        "log_dir= \"logs/model1/\" + datetime.datetime.now().strftime(\"%Y%m%d-%H%M%S\")\n",
        "tensorboard_callback = tf.keras.callbacks.TensorBoard(log_dir=log_dir,histogram_freq=1, write_graph=True,write_grads=True)\n",
        "\n",
        "model_1.compile(optimizer=adam,loss='sparse_categorical_crossentropy',metrics=['accuracy'])"
      ],
      "execution_count": 26,
      "outputs": []
    },
    {
      "cell_type": "code",
      "metadata": {
        "colab": {
          "base_uri": "https://localhost:8080/"
        },
        "id": "4wyTCuHAYEcP",
        "outputId": "387dd66d-8978-4fdd-b7e2-44f7234b992a"
      },
      "source": [
        "history=model_1.fit([X_train_pad_seq,X_train_mask],y_train,batch_size=128,epochs=6,validation_data=([X_test_pad_seq,X_test_mask],y_test),callbacks = [tensorboard_callback,DynamicLR])"
      ],
      "execution_count": 27,
      "outputs": [
        {
          "output_type": "stream",
          "text": [
            "Train on 1400 samples, validate on 600 samples\n",
            "Epoch 1/6\n",
            "1400/1400 [==============================] - 264s 188ms/sample - loss: 2.3032 - acc: 0.0857 - val_loss: 2.3026 - val_acc: 0.1000\n",
            "Epoch 2/6\n",
            "1280/1400 [==========================>...] - ETA: 12s - loss: 2.3028 - acc: 0.1023\n",
            "Epoch 00002: ReduceLROnPlateau reducing learning rate to 0.0009000000427477062.\n",
            "1400/1400 [==============================] - 267s 190ms/sample - loss: 2.3028 - acc: 0.1000 - val_loss: 2.3026 - val_acc: 0.1000\n",
            "Epoch 3/6\n",
            "1280/1400 [==========================>...] - ETA: 12s - loss: 2.3027 - acc: 0.1000\n",
            "Epoch 00003: ReduceLROnPlateau reducing learning rate to 0.0008100000384729356.\n",
            "1400/1400 [==============================] - 266s 190ms/sample - loss: 2.3027 - acc: 0.1043 - val_loss: 2.3026 - val_acc: 0.0967\n",
            "Epoch 4/6\n",
            "1400/1400 [==============================] - 267s 191ms/sample - loss: 2.3027 - acc: 0.1007 - val_loss: 2.3026 - val_acc: 0.1017\n",
            "Epoch 5/6\n",
            "1280/1400 [==========================>...] - ETA: 12s - loss: 2.3026 - acc: 0.0938\n",
            "Epoch 00005: ReduceLROnPlateau reducing learning rate to 0.0007290000503417104.\n",
            "1400/1400 [==============================] - 265s 189ms/sample - loss: 2.3026 - acc: 0.0921 - val_loss: 2.3026 - val_acc: 0.1000\n",
            "Epoch 6/6\n",
            "1280/1400 [==========================>...] - ETA: 12s - loss: 2.3026 - acc: 0.0883\n",
            "Epoch 00006: ReduceLROnPlateau reducing learning rate to 0.0006561000715009868.\n",
            "1400/1400 [==============================] - 267s 191ms/sample - loss: 2.3026 - acc: 0.0871 - val_loss: 2.3026 - val_acc: 0.1017\n"
          ],
          "name": "stdout"
        }
      ]
    },
    {
      "cell_type": "code",
      "metadata": {
        "colab": {
          "base_uri": "https://localhost:8080/",
          "height": 312
        },
        "id": "IfYKyaUg_r-y",
        "outputId": "66b68499-8e96-4efc-cf7d-85fd5a983108"
      },
      "source": [
        "import keras\n",
        "from matplotlib import pyplot as plt\n",
        "#history = model1.fit(train_x, train_y,validation_split = 0.1, epochs=50, batch_size=4)\n",
        "plt.plot(history.history['acc'])\n",
        "plt.plot(history.history['val_acc'])\n",
        "plt.title('model accuracy')\n",
        "plt.ylabel('accuracy')\n",
        "plt.xlabel('epoch')\n",
        "plt.legend(['train', 'val'], loc='upper left')\n",
        "plt.show()"
      ],
      "execution_count": 28,
      "outputs": [
        {
          "output_type": "stream",
          "text": [
            "Using TensorFlow backend.\n"
          ],
          "name": "stderr"
        },
        {
          "output_type": "display_data",
          "data": {
            "image/png": "[encoded data removed]",
            "text/plain": [
              "<Figure size 432x288 with 1 Axes>"
            ]
          },
          "metadata": {
            "tags": [],
            "needs_background": "light"
          }
        }
      ]
    },
    {
      "cell_type": "markdown",
      "metadata": {
        "id": "aCrKFbPaNjY-"
      },
      "source": [
        "We see here that the model is not at all performing well. The model seems to be sufferng from underfitting."
      ]
    },
    {
      "cell_type": "markdown",
      "metadata": {
        "id": "nDLTgb8GKLns"
      },
      "source": [
        "MODEL 2"
      ]
    },
    {
      "cell_type": "code",
      "metadata": {
        "id": "Q20ZH6N9x_nK"
      },
      "source": [
        "def convert_to_spectrogram(raw_data):  \n",
        "  spectrum = librosa.feature.melspectrogram(y=raw_data, sr=sample_rate, n_mels=64)\n",
        "  logmel_spectrum = librosa.power_to_db(S=spectrum, ref=np.max)\n",
        "  return logmel_spectrum  "
      ],
      "execution_count": 35,
      "outputs": []
    },
    {
      "cell_type": "code",
      "metadata": {
        "id": "YuLVOZbpyGY3"
      },
      "source": [
        "X_train_spectrogram = np.zeros((len(X_train_pad_seq),64,35))\n",
        "X_test_spectrogram = np.zeros((len(X_test_pad_seq),64,35))"
      ],
      "execution_count": 36,
      "outputs": []
    },
    {
      "cell_type": "code",
      "metadata": {
        "colab": {
          "base_uri": "https://localhost:8080/"
        },
        "id": "bdRWgmbc2ZfL",
        "outputId": "655145ad-e5ca-448d-d791-6b479615f862"
      },
      "source": [
        "len(X_train_pad_seq)"
      ],
      "execution_count": 37,
      "outputs": [
        {
          "output_type": "execute_result",
          "data": {
            "text/plain": [
              "1400"
            ]
          },
          "metadata": {
            "tags": []
          },
          "execution_count": 37
        }
      ]
    },
    {
      "cell_type": "code",
      "metadata": {
        "colab": {
          "base_uri": "https://localhost:8080/",
          "height": 66,
          "referenced_widgets": [
            "35d6c7f90e60498ebaa7dc63ebb0d9c9",
            "3edcbd686e77412fa310b8f88b8da1f7",
            "112f707b5b4d49c4826e623c8ccf54a4",
            "4a9a88335858482fbbd000a4b491d684",
            "5dfff3f041d24273b414a13197336d71",
            "351fbd49bd4d4c4fa3ee25df0831b7f8",
            "5828936e3b0b498b9a5fcf64b194a789",
            "4906dc2bf3ed4960a32eac64c3ad4b6d"
          ]
        },
        "id": "RF4tQ00syyMR",
        "outputId": "2b9591c0-249b-4bef-bbbf-f116010dcda2"
      },
      "source": [
        "for i in tqdm(range(0,len(X_train_pad_seq))):\n",
        "  xx = np.array(X_train_pad_seq[i])\n",
        "  xx = xx.reshape(17640)\n",
        "  X_train_spectrogram[i] = convert_to_spectrogram(xx)"
      ],
      "execution_count": 38,
      "outputs": [
        {
          "output_type": "display_data",
          "data": {
            "application/vnd.jupyter.widget-view+json": {
              "model_id": "35d6c7f90e60498ebaa7dc63ebb0d9c9",
              "version_minor": 0,
              "version_major": 2
            },
            "text/plain": [
              "HBox(children=(FloatProgress(value=0.0, max=1400.0), HTML(value='')))"
            ]
          },
          "metadata": {
            "tags": []
          }
        },
        {
          "output_type": "stream",
          "text": [
            "\n"
          ],
          "name": "stdout"
        }
      ]
    },
    {
      "cell_type": "code",
      "metadata": {
        "colab": {
          "base_uri": "https://localhost:8080/",
          "height": 66,
          "referenced_widgets": [
            "656e00aacf3c4db8a40ebfb9b21b9125",
            "8770ed7539514749b6ba03147d8c1d37",
            "269a6c647c184bc08f0c99dd6b3458bd",
            "cae8ee8d56fe450ea31b618e31dc8fe8",
            "329e5af4dc6b485a96db2eb61db92b69",
            "fa088f9819624ca79e0a737798e2814a",
            "f11ee46f5e924645bafc0012d904b253",
            "111634ebad304c2b96d5fd8d50da48b1"
          ]
        },
        "id": "v-ZHSRoT3zy1",
        "outputId": "2d9afc49-e8a3-4287-c6b1-95115ccd6607"
      },
      "source": [
        "for i in tqdm(range(0,len(X_test_pad_seq))):\n",
        "  xx = np.array(X_test_pad_seq[i])\n",
        "  xx = xx.reshape(17640)\n",
        "  X_test_spectrogram[i] = convert_to_spectrogram(xx)"
      ],
      "execution_count": 39,
      "outputs": [
        {
          "output_type": "display_data",
          "data": {
            "application/vnd.jupyter.widget-view+json": {
              "model_id": "656e00aacf3c4db8a40ebfb9b21b9125",
              "version_minor": 0,
              "version_major": 2
            },
            "text/plain": [
              "HBox(children=(FloatProgress(value=0.0, max=600.0), HTML(value='')))"
            ]
          },
          "metadata": {
            "tags": []
          }
        },
        {
          "output_type": "stream",
          "text": [
            "\n"
          ],
          "name": "stdout"
        }
      ]
    },
    {
      "cell_type": "code",
      "metadata": {
        "colab": {
          "base_uri": "https://localhost:8080/"
        },
        "id": "ZM343K1M4RYc",
        "outputId": "9fd3f04e-6352-48e4-b4ca-2f443266a8f5"
      },
      "source": [
        "def grader_spectrogram():\n",
        "  flag_shape = (X_train_spectrogram.shape==(1400,64, 35)) and (X_test_spectrogram.shape == (600, 64, 35))\n",
        "  return flag_shape\n",
        "grader_spectrogram()"
      ],
      "execution_count": 40,
      "outputs": [
        {
          "output_type": "execute_result",
          "data": {
            "text/plain": [
              "True"
            ]
          },
          "metadata": {
            "tags": []
          },
          "execution_count": 40
        }
      ]
    },
    {
      "cell_type": "code",
      "metadata": {
        "colab": {
          "base_uri": "https://localhost:8080/"
        },
        "id": "q3BWxL_z4fay",
        "outputId": "518ac545-0e14-4644-9fda-2eabe8854f4a"
      },
      "source": [
        "input = tf.keras.Input(shape=(64,35))\n",
        "x1 = tf.keras.layers.LSTM(65,return_sequences='True')(input)\n",
        "avg = tf.keras.layers.GlobalAveragePooling1D()(x1)\n",
        "x2 = tf.keras.layers.Dense(140, activation='relu',kernel_initializer='glorot_uniform')(avg)\n",
        "x3 = tf.keras.layers.Dense(70, activation='relu',kernel_initializer='glorot_uniform')(x2)\n",
        "x4 = tf.keras.layers.Dense(35, activation='relu',kernel_initializer='glorot_uniform')(x3)\n",
        "x5 = tf.keras.layers.Dense(16, activation='relu',kernel_initializer='glorot_uniform')(x4)\n",
        "\n",
        "\n",
        "\n",
        "output =tf.keras.layers.Dense(10, activation='softmax')(x5)\n",
        "model_2 = tf.keras.Model(inputs=input, outputs=output)\n",
        "\n",
        "model_2.summary()"
      ],
      "execution_count": 42,
      "outputs": [
        {
          "output_type": "stream",
          "text": [
            "_________________________________________________________________\n",
            "Layer (type)                 Output Shape              Param #   \n",
            "=================================================================\n",
            "input_2 (InputLayer)         (None, 64, 35)            0         \n",
            "_________________________________________________________________\n",
            "lstm_1 (LSTM)                (None, 64, 65)            26260     \n",
            "_________________________________________________________________\n",
            "global_average_pooling1d (Gl (None, 65)                0         \n",
            "_________________________________________________________________\n",
            "dense_2 (Dense)              (None, 140)               9240      \n",
            "_________________________________________________________________\n",
            "dense_3 (Dense)              (None, 70)                9870      \n",
            "_________________________________________________________________\n",
            "dense_4 (Dense)              (None, 35)                2485      \n",
            "_________________________________________________________________\n",
            "dense_5 (Dense)              (None, 16)                576       \n",
            "_________________________________________________________________\n",
            "dense_6 (Dense)              (None, 10)                170       \n",
            "=================================================================\n",
            "Total params: 48,601\n",
            "Trainable params: 48,601\n",
            "Non-trainable params: 0\n",
            "_________________________________________________________________\n"
          ],
          "name": "stdout"
        }
      ]
    },
    {
      "cell_type": "code",
      "metadata": {
        "id": "gE6wkar86x-1"
      },
      "source": [
        "DynamicLR = ReduceLROnPlateau(monitor='val_acc', factor=0.90, patience=1, verbose=1, mode='max', cooldown=0, min_lr=0.0001)\n",
        "adam = tf.keras.optimizers.Adam(0.001)\n",
        "model_2.compile(optimizer=adam,loss='sparse_categorical_crossentropy',metrics=['accuracy'])"
      ],
      "execution_count": 43,
      "outputs": []
    },
    {
      "cell_type": "code",
      "metadata": {
        "colab": {
          "base_uri": "https://localhost:8080/"
        },
        "id": "Z1o7uFqI8cbw",
        "outputId": "b5dd1837-e459-4944-e532-bbdee1e92756"
      },
      "source": [
        "history2 = model_2.fit(X_train_spectrogram,y_train,batch_size=100,epochs=25,steps_per_epoch=10,validation_data=(X_test_spectrogram,y_test),callbacks = [DynamicLR])"
      ],
      "execution_count": 44,
      "outputs": [
        {
          "output_type": "stream",
          "text": [
            "WARNING:tensorflow:From /usr/local/lib/python3.6/dist-packages/tensorflow/python/ops/math_ops.py:3066: to_int32 (from tensorflow.python.ops.math_ops) is deprecated and will be removed in a future version.\n",
            "Instructions for updating:\n",
            "Use tf.cast instead.\n",
            "Epoch 1/25\n",
            "10/10 [==============================] - 9s 851ms/step - loss: 2.2741 - acc: 0.1474 - val_loss: 2.2346 - val_acc: 0.2083\n",
            "Epoch 2/25\n",
            "10/10 [==============================] - 8s 761ms/step - loss: 2.1892 - acc: 0.2253 - val_loss: 2.1245 - val_acc: 0.2800\n",
            "Epoch 3/25\n",
            "10/10 [==============================] - 8s 775ms/step - loss: 2.0558 - acc: 0.3019 - val_loss: 1.9708 - val_acc: 0.3067\n",
            "Epoch 4/25\n",
            "10/10 [==============================] - 8s 777ms/step - loss: 1.8788 - acc: 0.3451 - val_loss: 1.7766 - val_acc: 0.3467\n",
            "Epoch 5/25\n",
            "10/10 [==============================] - 8s 762ms/step - loss: 1.6829 - acc: 0.3921 - val_loss: 1.6021 - val_acc: 0.4217\n",
            "Epoch 6/25\n",
            "10/10 [==============================] - 8s 766ms/step - loss: 1.4915 - acc: 0.4827 - val_loss: 1.4427 - val_acc: 0.5000\n",
            "Epoch 7/25\n",
            "10/10 [==============================] - 8s 754ms/step - loss: 1.3206 - acc: 0.5660 - val_loss: 1.3099 - val_acc: 0.5683\n",
            "Epoch 8/25\n",
            "10/10 [==============================] - 8s 771ms/step - loss: 1.1861 - acc: 0.6141 - val_loss: 1.2017 - val_acc: 0.5950\n",
            "Epoch 9/25\n",
            "10/10 [==============================] - 8s 768ms/step - loss: 1.0675 - acc: 0.6533 - val_loss: 1.1112 - val_acc: 0.6267\n",
            "Epoch 10/25\n",
            "10/10 [==============================] - 8s 770ms/step - loss: 0.9657 - acc: 0.6886 - val_loss: 1.0229 - val_acc: 0.6850\n",
            "Epoch 11/25\n",
            "10/10 [==============================] - 8s 765ms/step - loss: 0.8792 - acc: 0.7149 - val_loss: 0.9779 - val_acc: 0.6867\n",
            "Epoch 12/25\n",
            "10/10 [==============================] - 8s 767ms/step - loss: 0.7964 - acc: 0.7431 - val_loss: 0.8975 - val_acc: 0.7083\n",
            "Epoch 13/25\n",
            "10/10 [==============================] - 8s 783ms/step - loss: 0.7172 - acc: 0.7711 - val_loss: 0.8491 - val_acc: 0.7167\n",
            "Epoch 14/25\n",
            "10/10 [==============================] - 8s 778ms/step - loss: 0.6510 - acc: 0.7998 - val_loss: 0.8256 - val_acc: 0.7350\n",
            "Epoch 15/25\n",
            "10/10 [==============================] - 8s 775ms/step - loss: 0.6070 - acc: 0.8105 - val_loss: 0.7937 - val_acc: 0.7533\n",
            "Epoch 16/25\n",
            "10/10 [==============================] - 8s 759ms/step - loss: 0.5564 - acc: 0.8274 - val_loss: 0.7777 - val_acc: 0.7583\n",
            "Epoch 17/25\n",
            "10/10 [==============================] - 8s 767ms/step - loss: 0.5141 - acc: 0.8386 - val_loss: 0.7649 - val_acc: 0.7700\n",
            "Epoch 18/25\n",
            " 9/10 [==========================>...] - ETA: 0s - loss: 0.4824 - acc: 0.8473\n",
            "Epoch 00018: ReduceLROnPlateau reducing learning rate to 0.0009000000427477062.\n",
            "10/10 [==============================] - 8s 794ms/step - loss: 0.4802 - acc: 0.8488 - val_loss: 0.7487 - val_acc: 0.7550\n",
            "Epoch 19/25\n",
            " 9/10 [==========================>...] - ETA: 0s - loss: 0.4436 - acc: 0.8595\n",
            "Epoch 00019: ReduceLROnPlateau reducing learning rate to 0.0008100000384729356.\n",
            "10/10 [==============================] - 8s 777ms/step - loss: 0.4420 - acc: 0.8598 - val_loss: 0.7250 - val_acc: 0.7700\n",
            "Epoch 20/25\n",
            "10/10 [==============================] - 8s 770ms/step - loss: 0.4117 - acc: 0.8715 - val_loss: 0.7211 - val_acc: 0.7733\n",
            "Epoch 21/25\n",
            "10/10 [==============================] - 8s 767ms/step - loss: 0.3876 - acc: 0.8782 - val_loss: 0.7101 - val_acc: 0.7783\n",
            "Epoch 22/25\n",
            " 9/10 [==========================>...] - ETA: 0s - loss: 0.3670 - acc: 0.8848\n",
            "Epoch 00022: ReduceLROnPlateau reducing learning rate to 0.0007290000503417104.\n",
            "10/10 [==============================] - 8s 769ms/step - loss: 0.3664 - acc: 0.8845 - val_loss: 0.7134 - val_acc: 0.7700\n",
            "Epoch 23/25\n",
            "10/10 [==============================] - 8s 763ms/step - loss: 0.3433 - acc: 0.8941 - val_loss: 0.7038 - val_acc: 0.7817\n",
            "Epoch 24/25\n",
            "10/10 [==============================] - 8s 762ms/step - loss: 0.3227 - acc: 0.9026 - val_loss: 0.7065 - val_acc: 0.7833\n",
            "Epoch 25/25\n",
            " 9/10 [==========================>...] - ETA: 0s - loss: 0.3062 - acc: 0.9099\n",
            "Epoch 00025: ReduceLROnPlateau reducing learning rate to 0.0006561000715009868.\n",
            "10/10 [==============================] - 8s 766ms/step - loss: 0.3058 - acc: 0.9102 - val_loss: 0.7107 - val_acc: 0.7783\n"
          ],
          "name": "stdout"
        }
      ]
    },
    {
      "cell_type": "code",
      "metadata": {
        "colab": {
          "base_uri": "https://localhost:8080/",
          "height": 295
        },
        "id": "pNXWM14X__QM",
        "outputId": "02b26b2d-3165-411e-feb8-63f572952295"
      },
      "source": [
        "import keras\n",
        "from matplotlib import pyplot as plt\n",
        "plt.plot(history2.history['acc'])\n",
        "plt.plot(history2.history['val_acc'])\n",
        "plt.title('model accuracy')\n",
        "plt.ylabel('accuracy')\n",
        "plt.xlabel('epoch')\n",
        "plt.legend(['train', 'val'], loc='upper left')\n",
        "plt.show()"
      ],
      "execution_count": 45,
      "outputs": [
        {
          "output_type": "display_data",
          "data": {
            "image/png": "[encoded data removed]",
            "text/plain": [
              "<Figure size 432x288 with 1 Axes>"
            ]
          },
          "metadata": {
            "tags": [],
            "needs_background": "light"
          }
        }
      ]
    },
    {
      "cell_type": "markdown",
      "metadata": {
        "id": "g8DcwM8nNw2_"
      },
      "source": [
        "In comparison to the previous model, this one perform quite well. But as it is evident from the graph itself the model after 15 epochs starts to overfit i.e. the gap between training error and test error increases."
      ]
    }
  ]
}